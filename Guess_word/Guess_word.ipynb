{
 "cells": [
  {
   "cell_type": "code",
   "execution_count": 55,
   "id": "79ea444d-a7dc-41ff-b10b-ced39099ac9c",
   "metadata": {},
   "outputs": [],
   "source": [
    "def choice_level():\n",
    "    print (\"\"\"Levels \n",
    "    (1)medium \n",
    "    (2) hard\"\"\") \n",
    "    while True:\n",
    "        try:\n",
    "            ch = int(input(\"Please choose 1 or 2: \"))\n",
    "            if ch in (1, 2):\n",
    "                return ch\n",
    "            else:\n",
    "                print(\"Invalid input. Please enter 1 or 2.\")\n",
    "        except ValueError:\n",
    "            print(\"Invalid input. Please enter a number.\")"
   ]
  },
  {
   "cell_type": "code",
   "execution_count": 56,
   "id": "e087420b-7252-4599-ba20-79a81ca8c6d6",
   "metadata": {},
   "outputs": [
    {
     "name": "stdout",
     "output_type": "stream",
     "text": [
      "Levels \n",
      "    (1)medium \n",
      "    (2) hard\n"
     ]
    },
    {
     "data": {
      "text/plain": [
       "1"
      ]
     },
     "execution_count": 56,
     "metadata": {},
     "output_type": "execute_result"
    }
   ],
   "source": [
    "choice_level()\n"
   ]
  },
  {
   "cell_type": "code",
   "execution_count": 57,
   "id": "44a65bbc",
   "metadata": {},
   "outputs": [],
   "source": [
    "def choice_category():\n",
    "    print(\"\"\"Categories:\n",
    "    - jobs\n",
    "    - fruits\n",
    "    - animals\"\"\")\n",
    "    \n",
    "    while True:\n",
    "        category = input(\"Please choose a category: \").lower()\n",
    "        if category in (\"jobs\", \"fruits\", \"animals\"):\n",
    "            return category\n",
    "        else:\n",
    "            print(\"Invalid category. Please choose from (jobs, fruits, animals).\")\n"
   ]
  },
  {
   "cell_type": "code",
   "execution_count": 58,
   "id": "51907679-8570-4407-a3b3-2382dee0d999",
   "metadata": {},
   "outputs": [],
   "source": [
    "import random\n",
    "\n",
    "def choice_word(category, level):\n",
    "    words = {\n",
    "        \"jobs\": [\n",
    "            \"doctor\", \"teacher\", \"engineer\", \"lawyer\", \"nurse\", \"pilot\", \"farmer\", \"chef\", \"driver\",\n",
    "            \"plumber\", \"carpenter\", \"mechanic\", \"scientist\", \"artist\", \"actor\", \"singer\", \"dancer\",\n",
    "            \"firefighter\", \"policeman\", \"soldier\", \"dentist\", \"cashier\", \"waiter\", \"baker\", \"cleaner\",\n",
    "            \"photographer\", \"journalist\", \"architect\", \"electrician\", \"barber\", \"butcher\", \"librarian\",\n",
    "            \"pharmacist\", \"veterinarian\", \"receptionist\", \"translator\", \"accountant\", \"programmer\",\n",
    "            \"developer\", \"analyst\", \"designer\", \"consultant\", \"manager\", \"economist\", \"auditor\", \"researcher\"\n",
    "        ],\n",
    "        \"fruits\": [\n",
    "            \"apple\", \"banana\", \"orange\", \"grape\", \"kiwi\", \"mango\", \"peach\", \"plum\", \"pear\", \"cherry\",\n",
    "            \"watermelon\", \"strawberry\", \"blueberry\", \"pineapple\", \"pomegranate\"\n",
    "        ],\n",
    "        \"animals\": [\n",
    "            \"cat\", \"dog\", \"elephant\", \"tiger\", \"lion\", \"monkey\", \"giraffe\", \"zebra\", \"panda\",\n",
    "            \"rabbit\", \"kangaroo\", \"bear\", \"wolf\", \"fox\", \"deer\", \"leopard\", \"crocodile\", \"hippopotamus\"\n",
    "        ]\n",
    "    }\n",
    "\n",
    "    \n",
    "    selected_list = words.get(category, [])\n",
    "    if level == 1:  \n",
    "        filtered = [word for word in selected_list if len(word) <= 5]\n",
    "    elif level == 2:  \n",
    "        filtered = [word for word in selected_list if len(word) > 5]\n",
    "    else: \n",
    "        filtered = selected_list\n",
    "\n",
    "    return random.choice(filtered) \n"
   ]
  },
  {
   "cell_type": "code",
   "execution_count": 59,
   "id": "e2250613-7efc-404e-b14c-afe42d5a5e89",
   "metadata": {},
   "outputs": [
    {
     "name": "stdout",
     "output_type": "stream",
     "text": [
      "Categories:\n",
      "    - jobs\n",
      "    - fruits\n",
      "    - animals\n",
      "Levels \n",
      "    (1)medium \n",
      "    (2) hard\n",
      "Word to guess: actor\n"
     ]
    }
   ],
   "source": [
    "category = choice_category()\n",
    "level = choice_level()\n",
    "\n",
    "word = choice_word(category, level)\n",
    "print(\"Word to guess:\", word) \n"
   ]
  },
  {
   "cell_type": "code",
   "execution_count": 60,
   "id": "62366c80-acc5-46e2-a250-240512f4bf27",
   "metadata": {},
   "outputs": [],
   "source": [
    "def display_word(word):\n",
    "    for letter in word:\n",
    "        print ('-', end =\"\")\n",
    "    print (\"\\n\")\n",
    "        \n",
    "\n",
    "    "
   ]
  },
  {
   "cell_type": "code",
   "execution_count": 61,
   "id": "90402d45-80d3-4845-a791-ca4a92e19ca1",
   "metadata": {},
   "outputs": [
    {
     "name": "stdout",
     "output_type": "stream",
     "text": [
      "Categories:\n",
      "    - jobs\n",
      "    - fruits\n",
      "    - animals\n",
      "Levels \n",
      "    (1)medium \n",
      "    (2) hard\n",
      "-----\n",
      "\n",
      "peach\n"
     ]
    }
   ],
   "source": [
    "category = choice_category()\n",
    "level = choice_level()\n",
    "\n",
    "word = choice_word(category,level)\n",
    "display_word(word)\n",
    "print (word)"
   ]
  },
  {
   "cell_type": "code",
   "execution_count": 62,
   "id": "f79946a4-5b54-40ee-be29-ca5247118075",
   "metadata": {},
   "outputs": [],
   "source": [
    "def user_input(guessed_letters):\n",
    "    while True:\n",
    "        user_in = input('Enter one letter to guess the word: ').lower().strip()\n",
    "\n",
    "        if len(user_in) != 1 or not user_in.isalpha():\n",
    "            print(' Please enter exactly **one letter** (a-z).')\n",
    "            continue\n",
    "        elif user_in in guessed_letters:\n",
    "            print(\" You've already guessed that letter!\")\n",
    "            continue\n",
    "        else:\n",
    "            return user_in\n"
   ]
  },
  {
   "cell_type": "code",
   "execution_count": 63,
   "id": "a3b16fa2-261d-41a4-9c9c-00e7562c57cd",
   "metadata": {},
   "outputs": [],
   "source": [
    "def guess_validation(user_in, word, guessed_letters):\n",
    "    if user_in in guessed_letters:\n",
    "        print(\" You already guessed that letter.\")\n",
    "        return False\n",
    "    elif user_in in word:\n",
    "        print(\"Correct guess!\")\n",
    "        guessed_letters.add(user_in)\n",
    "        return True\n",
    "    else:\n",
    "        print(\"Wrong guess.\")\n",
    "        guessed_letters.add(user_in)\n",
    "        return False\n"
   ]
  },
  {
   "cell_type": "code",
   "execution_count": 64,
   "id": "bbff8455",
   "metadata": {},
   "outputs": [],
   "source": [
    "import time ,os\n",
    "def clear_screen():\n",
    "    time.sleep(0.8)\n",
    "    os.system('cls')\n"
   ]
  },
  {
   "cell_type": "code",
   "execution_count": null,
   "id": "48ce01ba-380d-426a-8cf6-9d01ebe2b88a",
   "metadata": {},
   "outputs": [],
   "source": [
    "def play_game():\n",
    "    print(\" \\n ####Welcome to 'Guess the Job' Game!####\\n\")\n",
    "    \n",
    "    category = choice_category()\n",
    "    \n",
    "\n",
    "\n",
    "    level = choice_level()\n",
    "        \n",
    "\n",
    "    word = choice_word(category, level)\n",
    "    guessed_letters = set()\n",
    "\n",
    "    if level == 1:\n",
    "      attempts =8\n",
    "    elif level ==2 :\n",
    "      attempts = 6\n",
    "\n",
    "    while attempts > 0:\n",
    "        print(\"\\nWord: \", \" \".join([letter if letter in guessed_letters else \"_\" for letter in word]))\n",
    "        print(f\" Attempts left: {attempts}\")\n",
    "        print (f\"the letters you'r Guessed {guessed_letters}\")\n",
    "        guess = user_input(guessed_letters)\n",
    "\n",
    "        if not guess_validation(guess, word, guessed_letters):\n",
    "            attempts -= 1\n",
    "\n",
    "        if set(word).issubset(guessed_letters):\n",
    "            print(f\"\\n  Congratulations! You guessed the word: {word} u guessed it in {attempts} attempt \\n \")\n",
    "            break\n",
    "\n",
    "    else:\n",
    "        print(f\"\\n  Game Over. The word was:{word}\\n\")"
   ]
  },
  {
   "cell_type": "code",
   "execution_count": 70,
   "id": "c388e1da-27b7-4bbb-b546-2b94fdb297e4",
   "metadata": {},
   "outputs": [
    {
     "name": "stdout",
     "output_type": "stream",
     "text": [
      " \n",
      " ####Welcome to 'Guess the Job' Game!####\n",
      "\n",
      "Categories:\n",
      "    - jobs\n",
      "    - fruits\n",
      "    - animals\n",
      "Levels \n",
      "    (1)medium \n",
      "    (2) hard\n",
      "\n",
      "Word:  _ _ _ _ _\n",
      " Attempts left: 8\n",
      "the letters you'r Guessed set()\n",
      "Wrong guess.\n",
      "\n",
      "Word:  _ _ _ _ _\n",
      " Attempts left: 7\n",
      "the letters you'r Guessed {'q'}\n",
      "Wrong guess.\n",
      "\n",
      "Word:  _ _ _ _ _\n",
      " Attempts left: 6\n",
      "the letters you'r Guessed {'q', 'f'}\n",
      "Correct guess!\n",
      "\n",
      "Word:  _ _ b _ _\n",
      " Attempts left: 6\n",
      "the letters you'r Guessed {'q', 'f', 'b'}\n",
      "Correct guess!\n",
      "\n",
      "Word:  _ _ b _ a\n",
      " Attempts left: 6\n",
      "the letters you'r Guessed {'q', 'f', 'b', 'a'}\n",
      "Correct guess!\n",
      "\n",
      "Word:  z _ b _ a\n",
      " Attempts left: 6\n",
      "the letters you'r Guessed {'q', 'b', 'f', 'a', 'z'}\n",
      "Correct guess!\n",
      "\n",
      "Word:  z e b _ a\n",
      " Attempts left: 6\n",
      "the letters you'r Guessed {'q', 'b', 'f', 'e', 'a', 'z'}\n",
      "Correct guess!\n",
      "\n",
      "  Congratulations! You guessed the word: zebra u guessed it in 6 attempt\n"
     ]
    }
   ],
   "source": [
    "play_game()"
   ]
  },
  {
   "cell_type": "code",
   "execution_count": null,
   "id": "d5b9a521-cc43-4023-bf41-57918ac39c69",
   "metadata": {},
   "outputs": [],
   "source": []
  }
 ],
 "metadata": {
  "kernelspec": {
   "display_name": "Python 3",
   "language": "python",
   "name": "python3"
  },
  "language_info": {
   "codemirror_mode": {
    "name": "ipython",
    "version": 3
   },
   "file_extension": ".py",
   "mimetype": "text/x-python",
   "name": "python",
   "nbconvert_exporter": "python",
   "pygments_lexer": "ipython3",
   "version": "3.12.6"
  }
 },
 "nbformat": 4,
 "nbformat_minor": 5
}
