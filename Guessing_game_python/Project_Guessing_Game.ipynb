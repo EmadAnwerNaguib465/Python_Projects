{
  "nbformat": 4,
  "nbformat_minor": 0,
  "metadata": {
    "colab": {
      "provenance": [],
      "collapsed_sections": [
        "1NMnTuFU4XF3",
        "GsE-z7Son-xm",
        "ZaIwkooboJ5p",
        "OjfyXPCeoQM4"
      ]
    },
    "kernelspec": {
      "name": "python3",
      "display_name": "Python 3"
    },
    "language_info": {
      "name": "python"
    }
  },
  "cells": [
    {
      "cell_type": "markdown",
      "source": [
        "\n",
        "<a href=\"https://www.zero-grad.com/\">\n",
        "         <img alt=\"Zero Grad\" src=\"https://lh3.googleusercontent.com/oEMY-qk_B2HW_Fponz1a3u1fLfo3NpO0VFjQKnVW8fH0v93NAWala5Kgp0nN2ubiyZdEMpwhv3Ynv7bXsB0RZ28YfEd_ZlRum75OHEu0-z7XwHfcD3sin7_SORLzg1gz52MsxD3b1WbxQWX1RdR4HP3jpbJTOuCiddl92UBcQH_x-Llx7_XuZuwb9ekN9vYnKsw6U1yL2df4IVrJEDySttzab9qlHvMO7sSekgS64jPVAmATjqXqlvrwM026dhrad-7nX-hfr2uKlUGPuo9xKzVo4EhbUP1-pKBQNPNHO6P0KcReg3NxbtKmWXRyg9LPX0xO-wwXWt9GhCcPXFV_BoY5eQXabCjR3mlr9SO01VgWplas-XF4337_JOm-bVkiaQjQca_N4Gg0hy26TvIGRnHEMIPSgudYPqhMnatoN4xAC715rP82r1svC0_qadXMZHu6D40YqWnY9ZE-iujr2p1_CetxmG-uY94UATy7o-SnxuPchG4QfZkiUgRMr8xNg86bQMuBxbCS_lOyVMwfqwbt2IunlDcZ8yyN_3SJFzFHuFOOjQolgGQrytI0mP1oTwba7je0RtBtCuTck1UCMMsZvMnJhCtWgMmuLoYTkSCzxMXbz0T3L2AClDouA_3dwM7z1gdm8Gq4v06T1KWFUs1adGNH5fuj-pUHEfW4drzzXgolPH5SehqhaNsqdMttCPUzNPIIEjwfULyQi7nlP-w-qydK82mdhdmjQhrprfoGtsPckJkI1Tur60uZI7nLkES5cE3tQrGualSNArRkkU8KN4tStZ0CkmqZNkAlMbfAJSYBD7tDxhGSg922AdLevSLJMTUyg6KuHoY30r7zH1Z8fE0R8aFZL2LJl54OU_tkXEdlFlSnZTOdB-PVTj-yagpt99SetLnQIX5SS_Vxc0BNPKjUZG0oEHYbIxkbZN1O7Rg78xe-thytngS0byfuaeP2X4NYjg29FIffnn72bAUs9Ii0N2mOpABLg1uQMN4MyAa1Mbd_=w1300-h200-no?authuser=1\" >\n",
        "      </a>"
      ],
      "metadata": {
        "id": "hMV-7TpxbEDG"
      }
    },
    {
      "cell_type": "markdown",
      "source": [
        "# Guessing Game Project Description"
      ],
      "metadata": {
        "id": "1NMnTuFU4XF3"
      }
    },
    {
      "cell_type": "markdown",
      "source": [
        "* **`First: You ask the user to set the game level:`**\n",
        "  * *(1) Easy*:\n",
        "    * Limits : [1 - 10]  \n",
        "    * No. of trials : 3\n",
        "  * *(2) Intermediate*:\n",
        "    * Limits : [1 - 100]\n",
        "    * No. of trials : 7\n",
        "  * *(3) Hard* :  \n",
        "    * Limits : [1 - 1000]\n",
        "    * No. of trials : 15\n",
        "\n",
        "* **`Second: set the game settings according to the game level:`**\n",
        "  * set the `guess` to a number within the limits using `random` module\n",
        "  * set the number of trials: `n_trials`\n",
        "\n",
        "* **`Finally: Play the game:`**\n",
        "  * Ask the user to guess the number:\n",
        "    * If he guessed it successfully : `print('Congratulations, you achieved it in {user_trials} trial') `\n",
        "    * if he failed:\n",
        "      * user_trials < n_trials: till him (Increase) or (Decrease)\n",
        "      * user_trials = n_trials: `print('You Lose!')`"
      ],
      "metadata": {
        "id": "7uon2S-n4XF3"
      }
    },
    {
      "cell_type": "markdown",
      "source": [
        "## Project Description"
      ],
      "metadata": {
        "id": "PhpgbWHJhJOW"
      }
    },
    {
      "cell_type": "markdown",
      "source": [
        "* **`First: You ask the user to set the game level:`**\n",
        "  * *(1) Easy*:\n",
        "    * Limits : [1 - 10]  \n",
        "    * No. of trials : 3\n",
        "  * *(2) Intermediate*:\n",
        "    * Limits : [1 - 100]\n",
        "    * No. of trials : 7\n",
        "  * *(3) Hard* :  \n",
        "    * Limits : [1 - 1000]\n",
        "    * No. of trials : 15\n",
        "\n",
        "* **`Second: start the game according to the game level:`**\n",
        "  * set the `guess` to a number within the limits using `random` module\n",
        "  * set the number of trials: `n_trials`\n",
        "\n",
        "* **`Finally: start the game:`**\n",
        "  * Ask the user to guess the number:\n",
        "    * If he guessed it successfully : `print('Congratulations, you achieved it in {user_trials} trial') `\n",
        "    * if he failed:\n",
        "      * user_trials < n_trials: give him another trial within\n",
        "      * user_trials = n_trials: `print('You Lose!')`"
      ],
      "metadata": {
        "id": "9XJyp9xehPBl"
      }
    },
    {
      "cell_type": "code",
      "source": [],
      "metadata": {
        "id": "we7UkC6AhFwy"
      },
      "execution_count": null,
      "outputs": []
    },
    {
      "cell_type": "markdown",
      "source": [
        "# Template of Solution"
      ],
      "metadata": {
        "id": "m2nflmTioFy_"
      }
    },
    {
      "cell_type": "markdown",
      "source": [
        "## Show the game levels"
      ],
      "metadata": {
        "id": "GsE-z7Son-xm"
      }
    },
    {
      "cell_type": "code",
      "source": [
        "def show_levels():\n",
        "  print (\n",
        "      \"\"\"\n",
        "      (1) Easy:\n",
        "        * Limits : [1 - 10]\n",
        "        * No. of trials : 3\n",
        "      (2) Intermediate:\n",
        "        * Limits : [1 - 100]\n",
        "        * No. of trials : 7\n",
        "      (3) Hard :\n",
        "        * Limits : [1 - 1000]\n",
        "        * No. of trials : 15\n",
        "      \"\"\"\n",
        "  )\n",
        "\n"
      ],
      "metadata": {
        "id": "YueCJNtPnndY"
      },
      "execution_count": 1,
      "outputs": []
    },
    {
      "cell_type": "code",
      "source": [
        "show_levels()"
      ],
      "metadata": {
        "id": "mVp_Bb7281Wm",
        "outputId": "7cdd5f2a-f5f8-48bd-ebb9-fe68c844ed85",
        "colab": {
          "base_uri": "https://localhost:8080/"
        }
      },
      "execution_count": 2,
      "outputs": [
        {
          "output_type": "stream",
          "name": "stdout",
          "text": [
            "\n",
            "      (1) Easy:\n",
            "        * Limits : [1 - 10]\n",
            "        * No. of trials : 3\n",
            "      (2) Intermediate:\n",
            "        * Limits : [1 - 100]\n",
            "        * No. of trials : 7\n",
            "      (3) Hard :\n",
            "        * Limits : [1 - 1000]\n",
            "        * No. of trials : 15\n",
            "      \n"
          ]
        }
      ]
    },
    {
      "cell_type": "markdown",
      "source": [
        "## Ask the user for the game level"
      ],
      "metadata": {
        "id": "ZaIwkooboJ5p"
      }
    },
    {
      "cell_type": "code",
      "source": [
        "def game_level_choice():\n",
        "  while True:\n",
        "      game_level  = int (input(\"Enter the game level : \\n (1) Easy \t (2) Intermediate \t (3) Hard \"))\n",
        "      if game_level in [1,2,3]:\n",
        "        break\n",
        "      else :\n",
        "        print (\"invalid choice plz enter 1 , 2 or 3 \")\n",
        "        continue\n",
        "  return game_level"
      ],
      "metadata": {
        "id": "ciabphtW4nB1"
      },
      "execution_count": 3,
      "outputs": []
    },
    {
      "cell_type": "code",
      "source": [
        "game_level_choice()"
      ],
      "metadata": {
        "id": "PrYJqVjK8qz4",
        "outputId": "d6a2aa1e-60f3-4cda-a69c-c45477de099e",
        "colab": {
          "base_uri": "https://localhost:8080/"
        }
      },
      "execution_count": 4,
      "outputs": [
        {
          "name": "stdout",
          "output_type": "stream",
          "text": [
            "Enter the game level : \n",
            " (1) Easy \t (2) Intermediate \t (3) Hard 2\n"
          ]
        },
        {
          "output_type": "execute_result",
          "data": {
            "text/plain": [
              "2"
            ]
          },
          "metadata": {},
          "execution_count": 4
        }
      ]
    },
    {
      "cell_type": "markdown",
      "source": [
        "## Set the game settings according to the game level:\n"
      ],
      "metadata": {
        "id": "OjfyXPCeoQM4"
      }
    },
    {
      "cell_type": "code",
      "source": [
        "def set_game_settings(game_level):\n",
        "  if game_level == 1 :\n",
        "    limits = range (1,11)\n",
        "    n_trials = 3\n",
        "  elif game_level == 2:\n",
        "    limits = range (1,101)\n",
        "    n_trials = 7\n",
        "  elif game_level == 3 :\n",
        "    limits = range (1,1001)\n",
        "    n_trials = 15\n",
        "\n",
        "  return limits, n_trials"
      ],
      "metadata": {
        "id": "NTxJ1qsJmhoG"
      },
      "execution_count": 5,
      "outputs": []
    },
    {
      "cell_type": "code",
      "source": [
        "def play_again():\n",
        "  while True :\n",
        "    again = input(\"Do u want to play again? \\'Y\\' or \\'N\\'\")\n",
        "    if again in ['Y','N']:\n",
        "      break\n",
        "    else :\n",
        "      print ('invalid !! plz Enter \\'Y\\' or \\'N\\'')\n",
        "      continue\n",
        "  return again\n",
        "\n"
      ],
      "metadata": {
        "id": "WTkfb0j5IoPz"
      },
      "execution_count": 6,
      "outputs": []
    },
    {
      "cell_type": "markdown",
      "source": [
        "## Start Playing"
      ],
      "metadata": {
        "id": "97c-Ofv1o522"
      }
    },
    {
      "cell_type": "markdown",
      "source": [
        "> Hint: to generate random number in some range:\n",
        "\n",
        "`import random`\n",
        "\n",
        "`num = random.randint(lower, upper)`\n",
        "\n",
        " or\n",
        "\n",
        " `num = random.choice(range(lower, upper))`\n"
      ],
      "metadata": {
        "id": "bwXcWa3bUREY"
      }
    },
    {
      "cell_type": "code",
      "source": [
        "\n",
        "import random\n",
        "def start_play(limits, n_trials):\n",
        "  hidden = random.choice(limits)\n",
        "  user_trials = 0\n",
        "  while True:\n",
        "    num = int (input(\"I have a hidden number, guess it : \"))\n",
        "    user_trials+=1\n",
        "    if user_trials==n_trials:\n",
        "      print (f\"You Lose The Hidden number is {hidden}\")\n",
        "      break\n",
        "    else :\n",
        "          if num > hidden :\n",
        "            print (\"No decrease\")\n",
        "\n",
        "            continue\n",
        "          elif num < hidden :\n",
        "            print (\"No increase\")\n",
        "\n",
        "            continue\n",
        "          else :\n",
        "            print (f\"You got it successfully in {user_trials} trials\")\n",
        "            break\n",
        "\n",
        "\n",
        "\n"
      ],
      "metadata": {
        "id": "wz6TkIcTo1Jl"
      },
      "execution_count": 7,
      "outputs": []
    },
    {
      "cell_type": "markdown",
      "source": [
        "## Let's Play"
      ],
      "metadata": {
        "id": "uI9u-XGV2S7P"
      }
    },
    {
      "cell_type": "code",
      "source": [
        "def play():\n",
        "  while True:\n",
        "    show_levels()\n",
        "    game_level = game_level_choice()\n",
        "    limits, n_trials = set_game_settings(game_level)\n",
        "    start_play(limits, n_trials)\n",
        "    if play_again() == 'Y':\n",
        "      continue\n",
        "    else:\n",
        "      break\n"
      ],
      "metadata": {
        "id": "4nIAPOhSpksM"
      },
      "execution_count": 8,
      "outputs": []
    },
    {
      "cell_type": "code",
      "source": [
        "play()"
      ],
      "metadata": {
        "colab": {
          "base_uri": "https://localhost:8080/"
        },
        "id": "7m9ENdZp1Ffg",
        "outputId": "e52053ab-4976-45af-e534-615859ef4f9f"
      },
      "execution_count": 9,
      "outputs": [
        {
          "name": "stdout",
          "output_type": "stream",
          "text": [
            "\n",
            "      (1) Easy:\n",
            "        * Limits : [1 - 10]\n",
            "        * No. of trials : 3\n",
            "      (2) Intermediate:\n",
            "        * Limits : [1 - 100]\n",
            "        * No. of trials : 7\n",
            "      (3) Hard :\n",
            "        * Limits : [1 - 1000]\n",
            "        * No. of trials : 15\n",
            "      \n",
            "Enter the game level : \n",
            " (1) Easy \t (2) Intermediate \t (3) Hard 2\n",
            "I have a hidden number, guess it : 50\n",
            "No decrease\n",
            "I have a hidden number, guess it : 25\n",
            "No decrease\n",
            "I have a hidden number, guess it : 13\n",
            "No decrease\n",
            "I have a hidden number, guess it : 8\n",
            "No decrease\n",
            "I have a hidden number, guess it : 5\n",
            "No increase\n",
            "I have a hidden number, guess it : 7\n",
            "You got it successfully in 6 trials\n",
            "Do u want to play again? 'Y' or 'N'N\n"
          ]
        }
      ]
    },
    {
      "cell_type": "code",
      "source": [],
      "metadata": {
        "id": "O911u9mL3Akr"
      },
      "execution_count": 9,
      "outputs": []
    }
  ]
}