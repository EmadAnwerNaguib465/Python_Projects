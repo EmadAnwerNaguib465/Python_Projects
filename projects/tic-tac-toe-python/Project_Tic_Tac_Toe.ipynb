{
  "nbformat": 4,
  "nbformat_minor": 0,
  "metadata": {
    "colab": {
      "provenance": []
    },
    "kernelspec": {
      "name": "python3",
      "display_name": "Python 3"
    },
    "language_info": {
      "name": "python"
    }
  },
  "cells": [
    {
      "cell_type": "markdown",
      "source": [
        "\n",
        "<a href=\"https://www.zero-grad.com/\">\n",
        "         <img alt=\"Zero Grad\" src=\"https://lh3.googleusercontent.com/oEMY-qk_B2HW_Fponz1a3u1fLfo3NpO0VFjQKnVW8fH0v93NAWala5Kgp0nN2ubiyZdEMpwhv3Ynv7bXsB0RZ28YfEd_ZlRum75OHEu0-z7XwHfcD3sin7_SORLzg1gz52MsxD3b1WbxQWX1RdR4HP3jpbJTOuCiddl92UBcQH_x-Llx7_XuZuwb9ekN9vYnKsw6U1yL2df4IVrJEDySttzab9qlHvMO7sSekgS64jPVAmATjqXqlvrwM026dhrad-7nX-hfr2uKlUGPuo9xKzVo4EhbUP1-pKBQNPNHO6P0KcReg3NxbtKmWXRyg9LPX0xO-wwXWt9GhCcPXFV_BoY5eQXabCjR3mlr9SO01VgWplas-XF4337_JOm-bVkiaQjQca_N4Gg0hy26TvIGRnHEMIPSgudYPqhMnatoN4xAC715rP82r1svC0_qadXMZHu6D40YqWnY9ZE-iujr2p1_CetxmG-uY94UATy7o-SnxuPchG4QfZkiUgRMr8xNg86bQMuBxbCS_lOyVMwfqwbt2IunlDcZ8yyN_3SJFzFHuFOOjQolgGQrytI0mP1oTwba7je0RtBtCuTck1UCMMsZvMnJhCtWgMmuLoYTkSCzxMXbz0T3L2AClDouA_3dwM7z1gdm8Gq4v06T1KWFUs1adGNH5fuj-pUHEfW4drzzXgolPH5SehqhaNsqdMttCPUzNPIIEjwfULyQi7nlP-w-qydK82mdhdmjQhrprfoGtsPckJkI1Tur60uZI7nLkES5cE3tQrGualSNArRkkU8KN4tStZ0CkmqZNkAlMbfAJSYBD7tDxhGSg922AdLevSLJMTUyg6KuHoY30r7zH1Z8fE0R8aFZL2LJl54OU_tkXEdlFlSnZTOdB-PVTj-yagpt99SetLnQIX5SS_Vxc0BNPKjUZG0oEHYbIxkbZN1O7Rg78xe-thytngS0byfuaeP2X4NYjg29FIffnn72bAUs9Ii0N2mOpABLg1uQMN4MyAa1Mbd_=w1300-h200-no?authuser=1\" >\n",
        "      </a>"
      ],
      "metadata": {
        "id": "hMV-7TpxbEDG"
      }
    },
    {
      "cell_type": "markdown",
      "source": [
        "# Tic Tac Toe Project Description"
      ],
      "metadata": {
        "id": "PhpgbWHJhJOW"
      }
    },
    {
      "cell_type": "markdown",
      "source": [
        " **`(1) Create Empty board (3x3):`**\n",
        "\n",
        "  `1  2  3`\n",
        "\n",
        "  `4 5 6`\n",
        "\n",
        "  `7 8 9`\n",
        "\n",
        " **`(2) Show Board`**\n",
        "\n",
        " **`(3) Set Players Randomly ('X', 'O')`**\n",
        "\n",
        " **`(4) Take Input from Player`**\n",
        "\n",
        " **`(5) Check Full Board >> Draw`**\n",
        "\n",
        " **`(6) Check if Someone wins >> Finish`**"
      ],
      "metadata": {
        "id": "9XJyp9xehPBl"
      }
    },
    {
      "cell_type": "markdown",
      "source": [
        "# Template"
      ],
      "metadata": {
        "id": "m2nflmTioFy_"
      }
    },
    {
      "cell_type": "markdown",
      "source": [
        "## Empty Board"
      ],
      "metadata": {
        "id": "GsE-z7Son-xm"
      }
    },
    {
      "cell_type": "code",
      "source": [
        "def create_empty_board():\n",
        "    board = [[1,2,3],\n",
        "             [4,5,6],\n",
        "              [7,8,9]]\n",
        "    for r in board:\n",
        "      for c in r :\n",
        "        print (c, end ='\\t')\n",
        "      print ('\\n')\n",
        "\n"
      ],
      "metadata": {
        "id": "YueCJNtPnndY"
      },
      "execution_count": 1,
      "outputs": []
    },
    {
      "cell_type": "code",
      "source": [
        "create_empty_board()"
      ],
      "metadata": {
        "colab": {
          "base_uri": "https://localhost:8080/"
        },
        "id": "RMlzPMyHRIq7",
        "outputId": "b54b6284-3902-4887-ef00-90a9271e93e8"
      },
      "execution_count": 2,
      "outputs": [
        {
          "output_type": "stream",
          "name": "stdout",
          "text": [
            "1\t2\t3\t\n",
            "\n",
            "4\t5\t6\t\n",
            "\n",
            "7\t8\t9\t\n",
            "\n"
          ]
        }
      ]
    },
    {
      "cell_type": "markdown",
      "source": [
        "## Show Board"
      ],
      "metadata": {
        "id": "qjKBWyq4f3Fr"
      }
    },
    {
      "cell_type": "code",
      "source": [
        "def show_board(board):\n",
        "   for r in board:\n",
        "      for c in r :\n",
        "        print (c, end ='\\t')\n",
        "      print ('\\n')\n"
      ],
      "metadata": {
        "id": "Bn6VqZo_Xze5"
      },
      "execution_count": 3,
      "outputs": []
    },
    {
      "cell_type": "code",
      "source": [
        "board = [[1,2,3],[4,'X',6],[7,8,9]]\n",
        "show_board(board)"
      ],
      "metadata": {
        "colab": {
          "base_uri": "https://localhost:8080/"
        },
        "id": "Z7lIOpFfX3dU",
        "outputId": "3be5a2b5-c8a9-4128-890d-f08754d7351e"
      },
      "execution_count": 4,
      "outputs": [
        {
          "output_type": "stream",
          "name": "stdout",
          "text": [
            "1\t2\t3\t\n",
            "\n",
            "4\tX\t6\t\n",
            "\n",
            "7\t8\t9\t\n",
            "\n"
          ]
        }
      ]
    },
    {
      "cell_type": "markdown",
      "source": [
        "## Set Players"
      ],
      "metadata": {
        "id": "ZaIwkooboJ5p"
      }
    },
    {
      "cell_type": "code",
      "source": [
        "def set_players():\n",
        "  import random\n",
        "  player1_symbol = random.choice(['X','O'])\n",
        "  if player1_symbol=='X':\n",
        "    player2_symbol = 'O'\n",
        "  else :\n",
        "    player2 ='X'\n",
        "  return player1_symbol,player2_symbol\n",
        "  # player1 , choice1 = input(\"Plz enter your name and Symbol separate by \\',\\'\").split(',')\n",
        "  # player2 ,choice2 =input(\"Another player enter your name and Symbol separate by \\',\\'\").split(',')\n",
        "  # print ( player1 , choice1)\n",
        "  # print ( player2 , choice2)"
      ],
      "metadata": {
        "id": "we7UkC6AhFwy"
      },
      "execution_count": 5,
      "outputs": []
    },
    {
      "cell_type": "code",
      "source": [
        "set_players()"
      ],
      "metadata": {
        "colab": {
          "base_uri": "https://localhost:8080/"
        },
        "id": "3A_FDAHLWxNF",
        "outputId": "760ee164-d4e9-4eed-bbe1-be5e1cbee17a"
      },
      "execution_count": 6,
      "outputs": [
        {
          "output_type": "execute_result",
          "data": {
            "text/plain": [
              "('X', 'O')"
            ]
          },
          "metadata": {},
          "execution_count": 6
        }
      ]
    },
    {
      "cell_type": "markdown",
      "source": [
        "## Take Input"
      ],
      "metadata": {
        "id": "VNl11PuZgDjc"
      }
    },
    {
      "cell_type": "code",
      "source": [
        "def take_input(board, player):\n",
        "  while True :\n",
        "    player_in = input ('enter a number between 1,9 ')\n",
        "    if player_in == '1' and board[0][0].isdigit():\n",
        "      board [0][0] = player\n",
        "      break\n",
        "    elif player_in == '2' and board[0][1].isdigit():\n",
        "      board [0][1] = player\n",
        "      break\n",
        "    elif player_in == '3' and board[0][2].isdigit():\n",
        "      board [0][2] = player\n",
        "      break\n",
        "    elif player_in == '4' and board[1][0].isdigit():\n",
        "      board [1][0] = player\n",
        "      break\n",
        "    elif player_in == '5' and board[1][1].isdigit():\n",
        "      board [1][1] = player\n",
        "      break\n",
        "    elif player_in == '6' and board[1][2].isdigit():\n",
        "      board [1][2] = player\n",
        "      break\n",
        "    elif player_in == '7' and board[2][0].isdigit():\n",
        "      board [2][0] = player\n",
        "      break\n",
        "    elif player_in == '8' and board[2][1].isdigit():\n",
        "      board [2][1] = player\n",
        "      break\n",
        "    elif player_in == '9' and board[2][2].isdigit():\n",
        "      board [2][2] = player\n",
        "      break\n",
        "    else :\n",
        "      print (\"Invalid Choice try again\")\n",
        "      continue\n",
        "  show_board(board)\n",
        "\n",
        "\n"
      ],
      "metadata": {
        "id": "pZAd299MY2fw"
      },
      "execution_count": 7,
      "outputs": []
    },
    {
      "cell_type": "code",
      "source": [
        "board = [['1','2','3'],['4','X','6'],['7','8','9']]\n",
        "player ='O'\n",
        "player_input = '8'\n",
        "take_input(board, player)\n"
      ],
      "metadata": {
        "colab": {
          "base_uri": "https://localhost:8080/"
        },
        "id": "bH2UI4GEcAVp",
        "outputId": "1db171b6-3f97-44fc-8e84-3bfd97c8e90a"
      },
      "execution_count": 8,
      "outputs": [
        {
          "output_type": "stream",
          "name": "stdout",
          "text": [
            "enter a number between 1,9 4\n",
            "1\t2\t3\t\n",
            "\n",
            "O\tX\t6\t\n",
            "\n",
            "7\t8\t9\t\n",
            "\n"
          ]
        }
      ]
    },
    {
      "cell_type": "markdown",
      "source": [
        "## Check Full Board"
      ],
      "metadata": {
        "id": "mgCFF48jgVq7"
      }
    },
    {
      "cell_type": "code",
      "source": [
        "def check_full_board(board):\n",
        "    for r in board:\n",
        "        for c in r:\n",
        "            if c.isdigit():\n",
        "                return False\n",
        "    return True\n"
      ],
      "metadata": {
        "id": "obxUdjg_ThZi"
      },
      "execution_count": 9,
      "outputs": []
    },
    {
      "cell_type": "code",
      "source": [
        "board = [['o','x','x'],['o','X','o'],['x','o','x']]\n",
        "check_full_board(board)"
      ],
      "metadata": {
        "colab": {
          "base_uri": "https://localhost:8080/"
        },
        "id": "TcLZt1PqS_9i",
        "outputId": "93d1a8cf-a56e-4921-dfef-865f9d245711"
      },
      "execution_count": 10,
      "outputs": [
        {
          "output_type": "execute_result",
          "data": {
            "text/plain": [
              "True"
            ]
          },
          "metadata": {},
          "execution_count": 10
        }
      ]
    },
    {
      "cell_type": "code",
      "source": [
        "board = [['o','x','x'],['4','X','o'],['x','o','x']]\n",
        "check_full_board(board)"
      ],
      "metadata": {
        "colab": {
          "base_uri": "https://localhost:8080/"
        },
        "id": "s475eihMkEqL",
        "outputId": "2e908c4e-c612-45ff-b0ad-d60f4178d65e"
      },
      "execution_count": 11,
      "outputs": [
        {
          "output_type": "execute_result",
          "data": {
            "text/plain": [
              "False"
            ]
          },
          "metadata": {},
          "execution_count": 11
        }
      ]
    },
    {
      "cell_type": "markdown",
      "source": [
        "## Check Win\n"
      ],
      "metadata": {
        "id": "OjfyXPCeoQM4"
      }
    },
    {
      "cell_type": "code",
      "source": [
        "def check_win(board):\n",
        "\n",
        "    for row in board:\n",
        "        if row[0] == row[1] == row[2]:\n",
        "            return True\n",
        "\n",
        "\n",
        "    for col in range(3):\n",
        "        if board[0][col] == board[1][col] == board[2][col]:\n",
        "            return True\n",
        "\n",
        "\n",
        "    if board[0][0] == board[1][1] == board[2][2]:\n",
        "        return True\n",
        "    elif board[0][2] == board[1][1] == board[2][0]:\n",
        "        return True\n",
        "\n",
        "    return False\n"
      ],
      "metadata": {
        "id": "NTxJ1qsJmhoG"
      },
      "execution_count": 12,
      "outputs": []
    },
    {
      "cell_type": "code",
      "source": [
        "board = [['o','x','x'],['o','o','x'],['x','o','x']]\n",
        "show_board(board)\n",
        "check_win(board)"
      ],
      "metadata": {
        "colab": {
          "base_uri": "https://localhost:8080/"
        },
        "id": "E-mETiZEfZqp",
        "outputId": "3c9b6f92-64a6-46d0-9b89-e8132087acf7"
      },
      "execution_count": 13,
      "outputs": [
        {
          "output_type": "stream",
          "name": "stdout",
          "text": [
            "o\tx\tx\t\n",
            "\n",
            "o\to\tx\t\n",
            "\n",
            "x\to\tx\t\n",
            "\n"
          ]
        },
        {
          "output_type": "execute_result",
          "data": {
            "text/plain": [
              "True"
            ]
          },
          "metadata": {},
          "execution_count": 13
        }
      ]
    },
    {
      "cell_type": "code",
      "source": [
        "board = [['o','x','o'],['o','o','x'],['x','o','x']]\n",
        "show_board(board)\n",
        "check_win(board)"
      ],
      "metadata": {
        "colab": {
          "base_uri": "https://localhost:8080/"
        },
        "id": "CmlQlsjZkIut",
        "outputId": "24a4b19a-e5ab-41bd-aa8c-1274f0d429f9"
      },
      "execution_count": 14,
      "outputs": [
        {
          "output_type": "stream",
          "name": "stdout",
          "text": [
            "o\tx\to\t\n",
            "\n",
            "o\to\tx\t\n",
            "\n",
            "x\to\tx\t\n",
            "\n"
          ]
        },
        {
          "output_type": "execute_result",
          "data": {
            "text/plain": [
              "False"
            ]
          },
          "metadata": {},
          "execution_count": 14
        }
      ]
    },
    {
      "cell_type": "markdown",
      "source": [
        "## Let's Play"
      ],
      "metadata": {
        "id": "uI9u-XGV2S7P"
      }
    },
    {
      "cell_type": "code",
      "source": [
        "def  names ():\n",
        "  n_player1 = input(\"Plz enter your name \")\n",
        "  n_player2 = input(\"another player enter your name \")\n",
        "  return n_player1 , n_player2"
      ],
      "metadata": {
        "id": "_6gATxH8wcb8"
      },
      "execution_count": 15,
      "outputs": []
    },
    {
      "cell_type": "code",
      "source": [
        "def play():\n",
        "    n_player1, n_player2 = names()\n",
        "    player1_symbol, player2_symbol = set_players()\n",
        "\n",
        "    print(n_player1, ':', player1_symbol)\n",
        "    print(n_player2, ':', player2_symbol, '\\n')\n",
        "\n",
        "    board = [['1', '2', '3'],\n",
        "             ['4', '5', '6'],\n",
        "             ['7', '8', '9']]\n",
        "\n",
        "    show_board(board)\n",
        "\n",
        "\n",
        "    players = [\n",
        "        {\"name\": n_player1, \"symbol\": player1_symbol},\n",
        "        {\"name\": n_player2, \"symbol\": player2_symbol}\n",
        "    ]\n",
        "\n",
        "    while True:\n",
        "        for player in players:\n",
        "            print(f\"{player['name']}, your turn ({player['symbol']})\")\n",
        "            take_input(board, player['symbol'])\n",
        "            show_board(board)\n",
        "\n",
        "            if check_win(board):\n",
        "                print(f\"{player['name']} you win, congratulations!\")\n",
        "                return\n",
        "\n",
        "            if check_full_board(board):\n",
        "                print(\"Game Finished - It's a draw!\")\n",
        "                return\n"
      ],
      "metadata": {
        "id": "4nIAPOhSpksM"
      },
      "execution_count": 16,
      "outputs": []
    },
    {
      "cell_type": "code",
      "source": [
        "play()"
      ],
      "metadata": {
        "colab": {
          "base_uri": "https://localhost:8080/"
        },
        "id": "7m9ENdZp1Ffg",
        "outputId": "2202728f-84ba-4ef5-ec32-95e821cc7dfd"
      },
      "execution_count": 17,
      "outputs": [
        {
          "output_type": "stream",
          "name": "stdout",
          "text": [
            "Plz enter your name emad\n",
            "another player enter your name yara\n",
            "emad : X\n",
            "yara : O \n",
            "\n",
            "1\t2\t3\t\n",
            "\n",
            "4\t5\t6\t\n",
            "\n",
            "7\t8\t9\t\n",
            "\n",
            "emad, your turn (X)\n",
            "enter a number between 1,9 5\n",
            "1\t2\t3\t\n",
            "\n",
            "4\tX\t6\t\n",
            "\n",
            "7\t8\t9\t\n",
            "\n",
            "1\t2\t3\t\n",
            "\n",
            "4\tX\t6\t\n",
            "\n",
            "7\t8\t9\t\n",
            "\n",
            "yara, your turn (O)\n",
            "enter a number between 1,9 5\n",
            "Invalid Choice try again\n",
            "enter a number between 1,9 6\n",
            "1\t2\t3\t\n",
            "\n",
            "4\tX\tO\t\n",
            "\n",
            "7\t8\t9\t\n",
            "\n",
            "1\t2\t3\t\n",
            "\n",
            "4\tX\tO\t\n",
            "\n",
            "7\t8\t9\t\n",
            "\n",
            "emad, your turn (X)\n",
            "enter a number between 1,9 2\n",
            "1\tX\t3\t\n",
            "\n",
            "4\tX\tO\t\n",
            "\n",
            "7\t8\t9\t\n",
            "\n",
            "1\tX\t3\t\n",
            "\n",
            "4\tX\tO\t\n",
            "\n",
            "7\t8\t9\t\n",
            "\n",
            "yara, your turn (O)\n",
            "enter a number between 1,9 1\n",
            "O\tX\t3\t\n",
            "\n",
            "4\tX\tO\t\n",
            "\n",
            "7\t8\t9\t\n",
            "\n",
            "O\tX\t3\t\n",
            "\n",
            "4\tX\tO\t\n",
            "\n",
            "7\t8\t9\t\n",
            "\n",
            "emad, your turn (X)\n",
            "enter a number between 1,9 8\n",
            "O\tX\t3\t\n",
            "\n",
            "4\tX\tO\t\n",
            "\n",
            "7\tX\t9\t\n",
            "\n",
            "O\tX\t3\t\n",
            "\n",
            "4\tX\tO\t\n",
            "\n",
            "7\tX\t9\t\n",
            "\n",
            "emad you win, congratulations!\n"
          ]
        }
      ]
    },
    {
      "cell_type": "code",
      "source": [],
      "metadata": {
        "id": "O911u9mL3Akr"
      },
      "execution_count": 17,
      "outputs": []
    }
  ]
}